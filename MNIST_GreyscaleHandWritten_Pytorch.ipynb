{
  "nbformat": 4,
  "nbformat_minor": 0,
  "metadata": {
    "colab": {
      "name": "MNIST_Pytorch.ipynb",
      "version": "0.3.2",
      "provenance": []
    },
    "kernelspec": {
      "name": "python3",
      "display_name": "Python 3"
    }
  },
  "cells": [
    {
      "metadata": {
        "id": "Elrf-u7O2d2e",
        "colab_type": "code",
        "colab": {}
      },
      "cell_type": "code",
      "source": [
        "# http://pytorch.org/\n",
        "from os.path import exists\n",
        "from wheel.pep425tags import get_abbr_impl, get_impl_ver, get_abi_tag\n",
        "platform = '{}{}-{}'.format(get_abbr_impl(), get_impl_ver(), get_abi_tag())\n",
        "cuda_output = !ldconfig -p|grep cudart.so|sed -e 's/.*\\.\\([0-9]*\\)\\.\\([0-9]*\\)$/cu\\1\\2/'\n",
        "accelerator = cuda_output[0] if exists('/dev/nvidia0') else 'cpu'\n",
        "\n",
        "!pip install -q http://download.pytorch.org/whl/{accelerator}/torch-0.4.1-{platform}-linux_x86_64.whl torchvision\n",
        "import torch"
      ],
      "execution_count": 0,
      "outputs": []
    },
    {
      "metadata": {
        "id": "Enj7KRzB1cXS",
        "colab_type": "code",
        "colab": {}
      },
      "cell_type": "code",
      "source": [
        "#import necessary libraries\n",
        "\n",
        "%matplotlib inline\n",
        "%config InlineBackend.figure_format = 'retina'\n",
        "\n",
        "import numpy as np\n",
        "import torch\n",
        "\n",
        "import helper\n",
        "\n",
        "import matplotlib.pyplot as plt"
      ],
      "execution_count": 0,
      "outputs": []
    },
    {
      "metadata": {
        "id": "wz0PEudU17wg",
        "colab_type": "code",
        "outputId": "191e42c3-f203-4ea9-8440-836e5a80b9dd",
        "colab": {
          "base_uri": "https://localhost:8080/",
          "height": 119
        }
      },
      "cell_type": "code",
      "source": [
        "from torchvision import datasets, transforms\n",
        "\n",
        "#Define a transform to normalise the data\n",
        "transform = transforms.Compose([transforms.ToTensor(), transforms.Normalize((0.5, 0.5, 0.5), (0.5, 0.5, 0.5)),])\n",
        "\n",
        "#Download and load the training data\n",
        "trainset = datasets.MNIST('MNIST_data/', download=True, train=True, transform=transform)\n",
        "trainloader = torch.utils.data.DataLoader(trainset, batch_size=64, shuffle=True)"
      ],
      "execution_count": 0,
      "outputs": [
        {
          "output_type": "stream",
          "text": [
            "Downloading http://yann.lecun.com/exdb/mnist/train-images-idx3-ubyte.gz\n",
            "Downloading http://yann.lecun.com/exdb/mnist/train-labels-idx1-ubyte.gz\n",
            "Downloading http://yann.lecun.com/exdb/mnist/t10k-images-idx3-ubyte.gz\n",
            "Downloading http://yann.lecun.com/exdb/mnist/t10k-labels-idx1-ubyte.gz\n",
            "Processing...\n",
            "Done!\n"
          ],
          "name": "stdout"
        }
      ]
    },
    {
      "metadata": {
        "id": "r3mLSsIo4v7D",
        "colab_type": "code",
        "outputId": "08d29a1c-fcb8-45fc-eb08-9da38d971aaf",
        "colab": {
          "base_uri": "https://localhost:8080/",
          "height": 68
        }
      },
      "cell_type": "code",
      "source": [
        "dataiter = iter(trainloader)\n",
        "images, labels = dataiter.next()\n",
        "print(type(images))\n",
        "print(images.shape)\n",
        "print(labels.shape)"
      ],
      "execution_count": 0,
      "outputs": [
        {
          "output_type": "stream",
          "text": [
            "<class 'torch.Tensor'>\n",
            "torch.Size([64, 1, 28, 28])\n",
            "torch.Size([64])\n"
          ],
          "name": "stdout"
        }
      ]
    },
    {
      "metadata": {
        "id": "qQ_SiT_l5ngy",
        "colab_type": "code",
        "outputId": "3124df04-fe89-4d23-c6b6-80fe3d0b26c0",
        "colab": {
          "base_uri": "https://localhost:8080/",
          "height": 282
        }
      },
      "cell_type": "code",
      "source": [
        "plt.imshow(images[1].numpy().squeeze(),cmap='Greys_r' )"
      ],
      "execution_count": 0,
      "outputs": [
        {
          "output_type": "execute_result",
          "data": {
            "text/plain": [
              "<matplotlib.image.AxesImage at 0x7f1e55d582b0>"
            ]
          },
          "metadata": {
            "tags": []
          },
          "execution_count": 10
        },
        {
          "output_type": "display_data",
          "data": {
            "image/png": "[encoded data removed]",
            "text/plain": [
              "<matplotlib.figure.Figure at 0x7f1e56423630>"
            ]
          },
          "metadata": {
            "tags": [],
            "image/png": {
              "width": 249,
              "height": 248
            }
          }
        }
      ]
    },
    {
      "metadata": {
        "id": "Lnw6knaxJzLG",
        "colab_type": "text"
      },
      "cell_type": "markdown",
      "source": [
        "Simple Neural Network\n"
      ]
    },
    {
      "metadata": {
        "id": "_aOODbbi6GBX",
        "colab_type": "code",
        "colab": {}
      },
      "cell_type": "code",
      "source": [
        "def activation(x):\n",
        "  return 1/(1+torch.exp(-x))\n",
        "\n",
        "#flatten the input images\n",
        "input = images.view(images.shape[0], -1)\n",
        "\n",
        "#Create parameters\n",
        "w1 = torch.randn(784, 256)\n",
        "b1 = torch.randn(256)\n",
        "\n",
        "w2 = torch.randn(256, 10)\n",
        "b2 = torch.randn(10)\n",
        "\n",
        "h = activation(torch.mm(input, w1) + b1)\n",
        "out = torch.mm(h, w2) + b2"
      ],
      "execution_count": 0,
      "outputs": []
    },
    {
      "metadata": {
        "id": "2Aym6nCw7sX9",
        "colab_type": "code",
        "outputId": "ef655ca4-f18c-446b-b892-24a41c58cdfa",
        "colab": {
          "base_uri": "https://localhost:8080/",
          "height": 2193
        }
      },
      "cell_type": "code",
      "source": [
        "out"
      ],
      "execution_count": 0,
      "outputs": [
        {
          "output_type": "execute_result",
          "data": {
            "text/plain": [
              "tensor([[-6.2781e+00,  6.8786e+00,  1.5026e+01, -6.8395e+00, -3.0899e+00,\n",
              "         -2.7319e+01,  5.5602e+00, -8.3864e+00, -3.9589e+00,  2.9540e+00],\n",
              "        [ 1.6835e+00, -2.7742e+00,  1.3839e+01, -3.7996e+00, -7.7537e+00,\n",
              "         -2.8999e+01,  8.5587e-01, -7.2495e+00, -5.5503e+00, -9.7462e-01],\n",
              "        [-1.3287e+01, -3.0495e+00,  1.9223e+01,  3.5708e+00, -8.0055e+00,\n",
              "         -2.4434e+01, -3.4996e+00, -1.0071e+01, -1.9383e+00, -1.0362e+00],\n",
              "        [-1.6529e+00, -4.1472e-01,  5.7511e+00,  6.2630e+00, -5.9041e+00,\n",
              "         -3.5712e+01, -9.5841e-01, -2.8941e+00, -9.7004e+00,  1.4380e+00],\n",
              "        [ 9.4990e-02, -3.0579e+00,  1.1774e+01, -3.5112e+00, -7.8479e-01,\n",
              "         -3.2716e+01, -7.7477e-01, -2.7877e+00,  1.8194e+00, -6.5878e+00],\n",
              "        [-1.2370e+00, -2.1549e+00,  1.5542e+01, -1.1450e+01, -6.4567e+00,\n",
              "         -3.2520e+01, -3.7229e+00, -6.9237e+00,  3.7924e+00,  1.0511e+00],\n",
              "        [ 5.8686e+00, -9.4403e-01,  2.0778e+01, -9.0334e-01, -8.0557e+00,\n",
              "         -3.1763e+01,  7.4567e+00, -9.8984e+00,  8.5313e+00, -6.5005e+00],\n",
              "        [-1.1692e+01, -9.4376e-01,  2.0642e+01, -1.0860e+01, -8.4175e+00,\n",
              "         -2.6126e+01, -2.2658e+00, -3.5456e+00, -2.2802e+00,  8.7553e-01],\n",
              "        [-7.4032e+00, -9.2918e-01,  2.0938e+01,  3.5149e+00, -1.3889e+01,\n",
              "         -3.1976e+01, -1.5472e+00, -2.0327e+01,  8.2925e+00,  2.0420e+00],\n",
              "        [-1.4762e+00, -5.2457e+00,  1.0159e+01, -5.8599e+00, -3.0152e+00,\n",
              "         -2.6793e+01, -7.8461e+00, -2.3850e+00, -1.0550e+01,  4.9931e+00],\n",
              "        [ 2.7908e+00, -1.7038e+00,  1.9204e+01, -6.0974e+00, -6.0026e+00,\n",
              "         -3.5211e+01,  1.0136e+00, -7.2779e+00, -6.6491e+00,  2.2724e+00],\n",
              "        [-9.9023e+00, -1.0646e+01,  1.2043e+01,  1.9308e+00, -1.6131e+01,\n",
              "         -3.2332e+01, -5.7931e+00, -1.0755e+01,  6.1928e-01,  4.2440e+00],\n",
              "        [-6.3946e+00, -1.5195e+00,  1.1204e+01, -1.4414e+00, -4.6073e+00,\n",
              "         -2.1068e+01,  3.4410e+00, -3.2681e+00, -2.9127e+00, -1.3921e+00],\n",
              "        [-1.1579e+00, -1.2180e+01,  1.8758e+01,  6.2890e+00, -1.0159e+01,\n",
              "         -3.3928e+01,  1.1299e+01, -8.3541e+00, -5.7800e+00, -3.5942e+00],\n",
              "        [-3.6608e+00,  2.6460e+00,  3.9644e+00,  5.7787e+00, -6.2707e+00,\n",
              "         -2.7933e+01,  3.0268e+00, -3.8597e+00, -1.2131e+00,  3.2265e+00],\n",
              "        [-1.7201e+00,  4.3586e+00,  1.6264e+01, -8.3541e+00, -5.4178e-01,\n",
              "         -3.0732e+01, -5.7835e+00, -1.1126e+01,  7.7351e+00,  1.4994e+00],\n",
              "        [-2.3138e+00, -4.0877e+00,  1.3073e+01, -3.4055e+00, -1.5823e+01,\n",
              "         -2.9872e+01,  7.0276e+00, -8.5679e+00, -6.0174e+00, -7.7007e+00],\n",
              "        [ 5.8836e+00,  7.7199e+00,  1.0563e+01, -7.5694e+00, -1.1783e+01,\n",
              "         -2.7637e+01, -2.1895e+00, -2.1349e+00,  2.8295e+00, -2.0064e+00],\n",
              "        [-3.1279e+00, -6.5145e+00,  1.6326e+01,  9.7260e-01, -8.7473e+00,\n",
              "         -2.7139e+01, -4.1846e+00, -6.2670e+00, -1.8684e+00,  2.1417e+00],\n",
              "        [-4.4542e+00, -2.8487e+00,  1.1191e+01, -1.9941e+00,  1.7073e-01,\n",
              "         -2.5741e+01, -6.9523e+00, -8.9256e+00, -9.5283e+00,  8.7151e+00],\n",
              "        [-5.3018e+00,  6.8380e-02,  1.4224e+01,  2.5255e+00, -1.3885e-01,\n",
              "         -3.0801e+01, -3.7064e+00, -8.5257e+00, -9.3489e+00,  8.8187e+00],\n",
              "        [-9.5056e+00, -4.8637e+00,  1.1997e+01, -4.4656e+00, -2.9774e+00,\n",
              "         -1.3286e+01, -7.1029e+00, -1.0940e+01, -3.4587e+00, -4.0208e+00],\n",
              "        [ 3.9441e+00,  5.3083e+00,  2.7816e+01, -4.7617e+00, -1.0018e+00,\n",
              "         -3.3856e+01,  1.9696e-01, -1.3060e+01, -1.1120e+01,  1.3980e+00],\n",
              "        [-4.9724e+00, -8.2911e+00,  1.5857e+01,  3.8245e+00, -5.8988e+00,\n",
              "         -3.3411e+01,  9.6792e-01, -7.2553e+00, -1.3206e+01,  1.7257e+00],\n",
              "        [-8.0983e+00, -6.0124e+00,  1.8051e+01, -9.2050e+00, -9.1743e+00,\n",
              "         -2.3038e+01,  9.3459e+00, -4.8633e-01, -5.3211e+00,  1.7061e+00],\n",
              "        [ 3.1838e+00, -4.0718e+00,  9.1504e+00,  3.7384e+00, -1.8542e+00,\n",
              "         -3.9843e+01, -1.7564e+01,  6.5132e-01, -9.4154e+00,  1.3826e-01],\n",
              "        [-2.5618e+01, -4.4154e+00,  1.6130e+01,  8.3783e+00, -1.4041e+01,\n",
              "         -2.6399e+01, -7.0459e+00, -3.7170e+00, -4.7632e-01,  5.6525e+00],\n",
              "        [ 3.7587e+00, -7.7854e+00,  1.2617e+01,  5.7332e+00, -3.2874e+00,\n",
              "         -3.1586e+01,  1.0855e+00,  5.4739e-01, -5.3171e+00,  4.0624e+00],\n",
              "        [-6.5140e+00, -9.1312e-01,  2.0324e+01, -5.1955e+00, -3.0068e+00,\n",
              "         -1.9648e+01,  1.9845e-04, -5.0599e+00, -2.4803e+00,  4.7682e+00],\n",
              "        [ 1.0675e+01, -1.3952e+01,  1.7130e+01,  2.3069e+00, -5.2224e+00,\n",
              "         -3.0229e+01, -7.5225e+00, -8.6924e+00,  6.9948e-01,  7.1358e+00],\n",
              "        [-1.7741e+00, -2.3320e-01,  1.4117e+01,  1.2783e+00, -1.3019e+00,\n",
              "         -2.5336e+01, -3.2511e+00, -8.5800e+00, -1.0543e+01,  3.0727e-01],\n",
              "        [-4.6515e+00, -2.0379e+00,  1.3360e+01,  2.4834e+00, -4.0498e-01,\n",
              "         -1.1817e+01, -1.5056e+00, -3.8266e+00, -1.1549e+01,  1.4476e+00],\n",
              "        [-7.9531e+00,  2.8385e+00,  5.5789e+00,  6.7840e+00, -6.8538e+00,\n",
              "         -2.8102e+01, -7.4795e+00, -9.2500e+00,  3.1994e+00,  3.5765e+00],\n",
              "        [-6.1906e+00,  3.7761e-01,  1.4497e+01,  9.7026e-01, -5.8730e+00,\n",
              "         -3.2554e+01,  5.2808e+00, -7.3961e+00, -6.0494e+00, -5.6913e+00],\n",
              "        [-4.4124e+00, -6.9862e+00,  2.3055e+01, -7.2860e+00, -3.6872e+00,\n",
              "         -2.4632e+01,  9.4948e+00, -1.4105e+01, -2.1627e+00, -1.2238e+00],\n",
              "        [-1.1162e+01, -4.2958e+00,  1.3444e+01, -8.6383e+00, -6.8934e+00,\n",
              "         -2.3434e+01,  3.9714e+00, -1.3211e+01, -6.4789e+00, -2.6991e+00],\n",
              "        [ 7.5512e+00, -4.2179e+00,  3.0351e+01, -6.5109e+00, -6.5427e+00,\n",
              "         -2.8513e+01,  5.6862e+00, -5.4665e+00, -6.7835e+00, -4.1311e+00],\n",
              "        [-4.7592e+00,  9.4676e+00,  2.5771e+01, -1.2527e+01, -8.8763e+00,\n",
              "         -2.2760e+01,  5.0749e+00, -5.8314e+00, -3.5035e+00, -2.1935e+00],\n",
              "        [ 1.5005e+00, -5.7517e-01,  8.6796e+00,  3.7892e+00, -2.1547e+00,\n",
              "         -3.4160e+01, -1.3318e+01, -1.0155e+01, -1.2987e+01,  5.6877e-01],\n",
              "        [ 8.8556e-02,  1.4072e+00,  1.9964e+01, -2.4343e+00, -1.3767e+01,\n",
              "         -2.6888e+01,  3.0726e+00, -9.2053e+00,  3.9350e+00,  1.1353e+00],\n",
              "        [ 1.6615e+00, -2.3478e+00,  2.0111e+01,  6.9859e-01, -2.7425e+00,\n",
              "         -2.6768e+01,  2.7448e+00, -1.2439e-01, -8.4012e+00,  6.8198e+00],\n",
              "        [-3.8003e+00, -7.8732e+00,  1.4656e+01,  1.2147e+00, -1.9132e+00,\n",
              "         -3.5438e+01, -1.0908e+01,  5.6035e+00, -7.9524e+00, -1.5296e+00],\n",
              "        [-1.4367e+01,  7.7407e+00,  2.3927e+01,  3.5459e+00,  1.3810e+00,\n",
              "         -2.7928e+01, -4.5074e-01, -1.0104e+01, -7.9149e+00,  1.6966e+01],\n",
              "        [ 1.6108e-01, -7.5342e+00,  1.2750e+01,  6.6358e+00, -4.5525e+00,\n",
              "         -2.4266e+01,  5.1756e+00, -8.8514e+00, -1.1223e+01,  9.4486e-02],\n",
              "        [ 2.0977e+00, -1.2647e+01,  2.5485e+01,  3.3951e+00, -3.3008e+00,\n",
              "         -3.7402e+01,  4.3794e-01, -1.0228e+01, -7.9185e+00,  4.9992e+00],\n",
              "        [-9.1394e+00,  1.4662e+01,  2.5841e+01, -4.3641e+00, -1.2247e+00,\n",
              "         -2.7046e+01,  4.6511e+00, -1.1594e+01, -3.9757e+00,  7.5366e+00],\n",
              "        [-5.3802e+00,  1.0124e+01,  1.2021e+01, -7.9007e+00, -1.4436e+01,\n",
              "         -2.6870e+01,  6.4907e+00, -4.8647e+00, -4.1740e+00, -1.0530e+00],\n",
              "        [-8.8757e+00, -1.4309e+00,  1.9154e+01, -6.6358e+00, -1.2646e+01,\n",
              "         -3.6057e+01,  7.4452e+00, -2.3684e+00, -2.3253e+00, -3.9362e+00],\n",
              "        [-2.2192e+00,  1.1109e+00,  9.0270e+00,  6.4695e-01, -5.4167e+00,\n",
              "         -2.9838e+01,  7.6632e+00, -7.4546e+00, -3.4727e+00, -3.9846e+00],\n",
              "        [-2.3881e+00,  6.8085e+00,  1.8370e+01, -1.1927e+00, -1.2081e+01,\n",
              "         -2.7781e+01,  4.2880e+00, -5.5331e+00, -5.2878e+00, -2.0133e+00],\n",
              "        [ 4.4332e+00, -4.9074e+00,  9.3603e+00,  2.2848e+00, -3.0747e+00,\n",
              "         -3.2202e+01, -1.5222e+00, -9.9333e+00, -1.1896e+01,  1.5395e+00],\n",
              "        [ 3.4289e+00,  9.5408e+00,  1.8397e+01, -1.0254e+01, -1.0392e+00,\n",
              "         -2.4561e+01, -3.1947e+00, -4.7817e+00,  1.1687e+00,  4.4355e-01],\n",
              "        [ 6.9012e+00,  3.6004e+00,  1.5822e+01, -5.5627e+00, -1.1411e+01,\n",
              "         -2.2713e+01,  3.5831e+00, -2.1966e+00, -3.7329e+00, -7.9308e+00],\n",
              "        [ 3.7221e+00, -8.5101e+00,  1.4646e+01, -2.8831e-01,  1.4999e+00,\n",
              "         -3.5285e+01, -9.6107e+00, -3.0335e+00, -1.4587e+01,  4.3026e+00],\n",
              "        [-1.1648e+00,  8.1534e+00,  2.1114e+01, -6.7440e+00, -6.5200e+00,\n",
              "         -2.5051e+01,  2.3925e-01, -2.9231e+00, -8.4711e+00,  3.8987e+00],\n",
              "        [-3.0607e-01, -8.9134e-01,  2.8309e+01, -9.8319e+00, -8.3509e+00,\n",
              "         -3.0230e+01, -3.2931e+00, -3.5232e+00, -2.8988e+00, -2.8810e+00],\n",
              "        [-4.2629e+00,  1.5931e+00,  1.9441e+01, -5.7497e-01, -7.6564e+00,\n",
              "         -3.1533e+01,  1.0234e+01,  1.7954e+00, -4.8269e+00,  4.8566e+00],\n",
              "        [-2.8441e+00, -1.4699e+00,  1.7765e+01,  1.9236e+00, -3.0239e+00,\n",
              "         -3.0013e+01,  5.9008e+00, -7.7166e+00, -6.9664e+00,  3.1907e-01],\n",
              "        [ 2.3257e+00, -6.4927e+00,  2.2003e+01,  1.1600e-01, -7.2494e-01,\n",
              "         -2.2234e+01,  5.1787e+00, -1.3804e+01, -9.1977e+00,  6.6870e+00],\n",
              "        [-5.2491e+00, -3.0899e-01,  1.8502e+01, -5.2201e+00, -6.6722e-01,\n",
              "         -3.4499e+01, -9.5096e+00, -1.5132e+00, -1.2772e+01,  1.9567e-01],\n",
              "        [ 6.5343e+00,  9.9869e+00,  9.8962e+00, -1.0777e+01, -1.4972e+01,\n",
              "         -1.7454e+01,  1.2446e+00, -1.7412e+00,  4.1259e+00, -2.0631e+00],\n",
              "        [-4.8354e+00,  5.5275e+00,  1.4082e+01, -8.8553e+00, -1.2575e+01,\n",
              "         -2.2511e+01, -4.0746e+00, -3.3737e+00, -3.1935e+00, -3.8278e-01],\n",
              "        [-2.7224e-01, -6.9391e+00,  1.5608e+01, -1.1688e+01, -1.5578e+00,\n",
              "         -2.3486e+01, -1.1807e+00, -1.7815e+01, -9.1607e+00,  1.4772e+01],\n",
              "        [-4.1924e+00, -1.8315e+00,  1.9392e+01,  6.5411e-01, -9.0766e+00,\n",
              "         -1.8813e+01,  4.0456e+00, -2.5212e+01, -4.3143e+00,  1.5558e+00]])"
            ]
          },
          "metadata": {
            "tags": []
          },
          "execution_count": 12
        }
      ]
    },
    {
      "metadata": {
        "id": "2sove4698HI_",
        "colab_type": "code",
        "outputId": "3d4b4517-0b79-407d-e911-8a59bc44446e",
        "colab": {
          "base_uri": "https://localhost:8080/",
          "height": 170
        }
      },
      "cell_type": "code",
      "source": [
        "#Softmax function\n",
        "\n",
        "def softmax(x):\n",
        "  return torch.exp(x)/torch.sum(torch.exp(x), dim=1).view(-1,1)\n",
        "\n",
        "probabilities = softmax(out)\n",
        "\n",
        "#does it have the right shape? Should be (64, 10)?\n",
        "print(probabilities.shape)\n",
        "\n",
        "#does it sum to 1?\n",
        "print(probabilities.sum(dim=1))"
      ],
      "execution_count": 0,
      "outputs": [
        {
          "output_type": "stream",
          "text": [
            "torch.Size([64, 10])\n",
            "tensor([1.0000, 1.0000, 1.0000, 1.0000, 1.0000, 1.0000, 1.0000, 1.0000, 1.0000,\n",
            "        1.0000, 1.0000, 1.0000, 1.0000, 1.0000, 1.0000, 1.0000, 1.0000, 1.0000,\n",
            "        1.0000, 1.0000, 1.0000, 1.0000, 1.0000, 1.0000, 1.0000, 1.0000, 1.0000,\n",
            "        1.0000, 1.0000, 1.0000, 1.0000, 1.0000, 1.0000, 1.0000, 1.0000, 1.0000,\n",
            "        1.0000, 1.0000, 1.0000, 1.0000, 1.0000, 1.0000, 1.0000, 1.0000, 1.0000,\n",
            "        1.0000, 1.0000, 1.0000, 1.0000, 1.0000, 1.0000, 1.0000, 1.0000, 1.0000,\n",
            "        1.0000, 1.0000, 1.0000, 1.0000, 1.0000, 1.0000, 1.0000, 1.0000, 1.0000,\n",
            "        1.0000])\n"
          ],
          "name": "stdout"
        }
      ]
    },
    {
      "metadata": {
        "id": "8uTgDJME-NYr",
        "colab_type": "text"
      },
      "cell_type": "markdown",
      "source": [
        "**Using nn module to build neural network**"
      ]
    },
    {
      "metadata": {
        "id": "gNKHdZQX-Hu_",
        "colab_type": "code",
        "colab": {}
      },
      "cell_type": "code",
      "source": [
        "from torch import nn"
      ],
      "execution_count": 0,
      "outputs": []
    },
    {
      "metadata": {
        "id": "binm20Qc-ZF5",
        "colab_type": "code",
        "colab": {}
      },
      "cell_type": "code",
      "source": [
        "class Network(nn.Module):\n",
        "  def __init__(self):\n",
        "    super().__init__()\n",
        "    \n",
        "    #Inputs to hidden layer linear transformation \n",
        "    self.hidden = nn.Linear(784, 256)\n",
        "    \n",
        "    #Output layer, 10 units - one for each\n",
        "    self.output = nn.Linear(256, 10)\n",
        "    \n",
        "    #Define sigmoid and softmax activation functions\n",
        "    self.sigmoid = nn.Sigmoid()\n",
        "    self.softmax = nn.Softmax(dim=1)\n",
        "    \n",
        "  def forward(self, x):\n",
        "    x = self.hidden(x)\n",
        "    x = self.sigmoid(x)\n",
        "    x = self.output(x)\n",
        "    x = self.softmax(x)\n",
        "    \n",
        "    return x\n",
        "  "
      ],
      "execution_count": 0,
      "outputs": []
    },
    {
      "metadata": {
        "id": "ofvSRTTDAUHm",
        "colab_type": "code",
        "outputId": "fe51a194-9307-447f-b77c-8fb16cddc37d",
        "colab": {
          "base_uri": "https://localhost:8080/",
          "height": 119
        }
      },
      "cell_type": "code",
      "source": [
        "#Create network and look and at its the text representatin\n",
        "model = Network()\n",
        "model"
      ],
      "execution_count": 0,
      "outputs": [
        {
          "output_type": "execute_result",
          "data": {
            "text/plain": [
              "Network(\n",
              "  (hidden): Linear(in_features=784, out_features=256, bias=True)\n",
              "  (output): Linear(in_features=256, out_features=10, bias=True)\n",
              "  (sigmoid): Sigmoid()\n",
              "  (softmax): Softmax()\n",
              ")"
            ]
          },
          "metadata": {
            "tags": []
          },
          "execution_count": 19
        }
      ]
    },
    {
      "metadata": {
        "id": "8-CnyoG2A7bN",
        "colab_type": "text"
      },
      "cell_type": "markdown",
      "source": [
        "Neural Network can be define more concisely and clearly using the torch.nn.functional"
      ]
    },
    {
      "metadata": {
        "id": "K0aIHVIFAkyH",
        "colab_type": "code",
        "colab": {}
      },
      "cell_type": "code",
      "source": [
        "import torch.nn.functional as F\n",
        "\n",
        "class Network(nn.Module):\n",
        "  def __init__(self):\n",
        "    super().__init__()\n",
        "    \n",
        "    #Inputs to hidden layer linear transformation \n",
        "    self.hidden = nn.Linear(784, 256)\n",
        "    \n",
        "    #Output layer, 10 units - one for each\n",
        "    self.output = nn.Linear(256, 10)\n",
        "    \n",
        "    \n",
        "  def forward(self, x):\n",
        "    x = F.sigmoid(self.hidden(x))\n",
        "    \n",
        "    x = F.softmax(self.output(x), dim = 1)\n",
        "   \n",
        "    \n",
        "    return x"
      ],
      "execution_count": 0,
      "outputs": []
    },
    {
      "metadata": {
        "id": "7VNRVaJkKCJz",
        "colab_type": "text"
      },
      "cell_type": "markdown",
      "source": [
        "Using \"Sequential\"\n"
      ]
    },
    {
      "metadata": {
        "id": "q6zbds8yByJU",
        "colab_type": "code",
        "outputId": "f627ed69-7cc7-44dd-c522-35d397f2475a",
        "colab": {
          "base_uri": "https://localhost:8080/",
          "height": 34
        }
      },
      "cell_type": "code",
      "source": [
        "#Build a feed forward network\n",
        "model = nn.Sequential(nn.Linear(784, 128), nn.ReLU(), nn.Linear(128, 64), nn.ReLU(), nn.Linear(64, 10))\n",
        "\n",
        "#Define the loss \n",
        "criterion = nn.CrossEntropyLoss()\n",
        "\n",
        "#Get our data \n",
        "images, labels = next(iter(trainloader))\n",
        "\n",
        "#Flatten images \n",
        "images = images.view(images.shape[0], -1)\n",
        "\n",
        "#Forward pass, get our logits\n",
        "logits = model(images)\n",
        "#Calculate the loss with logits and the labels\n",
        "loss = criterion(logits, labels)\n",
        "\n",
        "print(loss)"
      ],
      "execution_count": 0,
      "outputs": [
        {
          "output_type": "stream",
          "text": [
            "tensor(2.2975, grad_fn=<NllLossBackward>)\n"
          ],
          "name": "stdout"
        }
      ]
    },
    {
      "metadata": {
        "id": "zWoHsLz-GaEO",
        "colab_type": "text"
      },
      "cell_type": "markdown",
      "source": [
        "Better to use logsoftmax and negative log lkehood loss "
      ]
    },
    {
      "metadata": {
        "id": "TnKc2OrIF10g",
        "colab_type": "code",
        "outputId": "b95ad524-83a7-4aee-d879-dcca426f5bd8",
        "colab": {
          "base_uri": "https://localhost:8080/",
          "height": 34
        }
      },
      "cell_type": "code",
      "source": [
        "#Build a feed forward network\n",
        "model = nn.Sequential(nn.Linear(784, 128), nn.ReLU(), nn.Linear(128, 64), nn.ReLU(), nn.Linear(64, 10), nn.LogSoftmax(dim=1))\n",
        "\n",
        "#Define the loss \n",
        "criterion = nn.NLLLoss()\n",
        "\n",
        "#Get our data \n",
        "images, labels = next(iter(trainloader))\n",
        "\n",
        "#Flatten images \n",
        "images = images.view(images.shape[0], -1)\n",
        "\n",
        "#Forward pass, get our logits\n",
        "logps = model(images)\n",
        "#Calculate the loss with logits and the labels\n",
        "loss = criterion(logps, labels)\n",
        "\n",
        "print(loss)"
      ],
      "execution_count": 0,
      "outputs": [
        {
          "output_type": "stream",
          "text": [
            "tensor(2.3068, grad_fn=<NllLossBackward>)\n"
          ],
          "name": "stdout"
        }
      ]
    },
    {
      "metadata": {
        "id": "vMLRXMBsHbAt",
        "colab_type": "text"
      },
      "cell_type": "markdown",
      "source": [
        "**Autograd**  automatically calculates the gradients of our tensor\n",
        "**Optim Package** useful for optimization  "
      ]
    },
    {
      "metadata": {
        "id": "zJ80wT-cMQ-z",
        "colab_type": "code",
        "colab": {}
      },
      "cell_type": "code",
      "source": [
        "from torch import optim"
      ],
      "execution_count": 0,
      "outputs": []
    },
    {
      "metadata": {
        "id": "y8PjWXT0G1Dw",
        "colab_type": "code",
        "outputId": "dde4ed84-e7f2-48f8-808e-da9eda8eb02d",
        "colab": {
          "base_uri": "https://localhost:8080/",
          "height": 102
        }
      },
      "cell_type": "code",
      "source": [
        "#Build a feed forward network\n",
        "model = nn.Sequential(nn.Linear(784, 128), nn.ReLU(), nn.Linear(128, 64), nn.ReLU(), nn.Linear(64, 10), nn.LogSoftmax(dim=1))\n",
        "\n",
        "#Define the loss \n",
        "criterion = nn.NLLLoss()\n",
        "optimizer = optim.SGD(model.parameters(), lr=0.003)\n",
        "\n",
        "epochs = 5\n",
        "for e in range(epochs):\n",
        "  running_loss = 0\n",
        "  for images, labels in trainloader:\n",
        "    #Flatten MNIST images into a 784 long vector \n",
        "    images = images.view(images.shape[0], -1)\n",
        "    \n",
        "    #TODO: Training pass \n",
        "    optimizer.zero_grad()\n",
        "    \n",
        "    output = model.forward(images)\n",
        "    loss = criterion(output, labels)\n",
        "    loss.backward()\n",
        "    optimizer.step()\n",
        "    \n",
        "    running_loss += loss.item()\n",
        "  else:\n",
        "    print(f\"Training loss: {running_loss/len(trainloader)}\")"
      ],
      "execution_count": 0,
      "outputs": [
        {
          "output_type": "stream",
          "text": [
            "Training loss: 1.9410510900686544\n",
            "Training loss: 0.9200911525088841\n",
            "Training loss: 0.5508160361094769\n",
            "Training loss: 0.43888918243682207\n",
            "Training loss: 0.3889982285720707\n"
          ],
          "name": "stdout"
        }
      ]
    },
    {
      "metadata": {
        "id": "akb0uJCSO6Gk",
        "colab_type": "code",
        "colab": {}
      },
      "cell_type": "code",
      "source": [
        "def view_classify(img, ps, version=\"MNIST\"):\n",
        "    ''' Function for viewing an image and it's predicted classes.\n",
        "    '''\n",
        "    ps = ps.data.numpy().squeeze()\n",
        "\n",
        "    fig, (ax1, ax2) = plt.subplots(figsize=(6,9), ncols=2)\n",
        "    ax1.imshow(img.resize_(1, 28, 28).numpy().squeeze())\n",
        "    ax1.axis('off')\n",
        "    ax2.barh(np.arange(10), ps)\n",
        "    ax2.set_aspect(0.1)\n",
        "    ax2.set_yticks(np.arange(10))\n",
        "    if version == \"MNIST\":\n",
        "        ax2.set_yticklabels(np.arange(10))\n",
        "    elif version == \"Fashion\":\n",
        "        ax2.set_yticklabels(['T-shirt/top',\n",
        "                            'Trouser',\n",
        "                            'Pullover',\n",
        "                            'Dress',\n",
        "                            'Coat',\n",
        "                            'Sandal',\n",
        "                            'Shirt',\n",
        "                            'Sneaker',\n",
        "                            'Bag',\n",
        "                            'Ankle Boot'], size='small');\n",
        "    ax2.set_title('Class Probability')\n",
        "    ax2.set_xlim(0, 1.1)\n",
        "    \n",
        "    plt.tight_layout()"
      ],
      "execution_count": 0,
      "outputs": []
    },
    {
      "metadata": {
        "id": "JE4UlLCFMHIz",
        "colab_type": "code",
        "outputId": "ed8ef05e-3a56-4051-a76f-e70fc7c453ea",
        "colab": {
          "base_uri": "https://localhost:8080/",
          "height": 244
        }
      },
      "cell_type": "code",
      "source": [
        "images, labels = next(iter(trainloader))\n",
        "\n",
        "img = images[0].view(1, 784)\n",
        "#Turn off gradients to speed up this part \n",
        "with torch.no_grad():\n",
        "  logits = model.forward(img)\n",
        "  \n",
        "#Output of the network are logits, need to take softmax for probabilities \n",
        "ps = F.softmax(logits, dim=1)\n",
        "view_classify(img.view(1, 28, 28), ps)"
      ],
      "execution_count": 0,
      "outputs": [
        {
          "output_type": "display_data",
          "data": {
            "image/png": "[encoded data removed]",
            "text/plain": [
              "<matplotlib.figure.Figure at 0x7f1e53377518>"
            ]
          },
          "metadata": {
            "tags": [],
            "image/png": {
              "width": 424,
              "height": 227
            }
          }
        }
      ]
    },
    {
      "metadata": {
        "id": "zEtSaWMwUhqu",
        "colab_type": "text"
      },
      "cell_type": "markdown",
      "source": [
        "Visit this link for more details - \n",
        "\n",
        "https://github.com/udacity/deep-learning-v2-pytorch/blob/master/intro-to-pytorch/Part%202%20-%20Neural%20Networks%20in%20PyTorch%20(Solution).ipynb\n",
        "\n",
        "https://github.com/udacity/deep-learning-v2-pytorch/blob/master/intro-to-pytorch/Part%203%20-%20Training%20Neural%20Networks%20(Solution).ipynb"
      ]
    }
  ]
}