{
  "nbformat": 4,
  "nbformat_minor": 0,
  "metadata": {
    "colab": {
      "name": "Pytorch_intro_1.ipynb",
      "version": "0.3.2",
      "provenance": []
    },
    "kernelspec": {
      "name": "python3",
      "display_name": "Python 3"
    }
  },
  "cells": [
    {
      "metadata": {
        "id": "ViZXzewhHvDv",
        "colab_type": "text"
      },
      "cell_type": "markdown",
      "source": [
        "Simple Neural Network\n"
      ]
    },
    {
      "metadata": {
        "id": "bsduKE8lICyI",
        "colab_type": "code",
        "colab": {}
      },
      "cell_type": "code",
      "source": [
        "from os.path import exists\n",
        "from wheel.pep425tags import get_abbr_impl, get_impl_ver, get_abi_tag\n",
        "platform = '{}{}-{}'.format(get_abbr_impl(), get_impl_ver(), get_abi_tag())\n",
        "cuda_output = !ldconfig -p|grep cudart.so|sed -e 's/.*\\.\\([0-9]*\\)\\.\\([0-9]*\\)$/cu\\1\\2/'\n",
        "accelerator = cuda_output[0] if exists('/dev/nvidia0') else 'cpu'\n",
        "\n",
        "!pip install -q http://download.pytorch.org/whl/{accelerator}/torch-0.4.1-{platform}-linux_x86_64.whl torchvision\n",
        "import torch"
      ],
      "execution_count": 0,
      "outputs": []
    },
    {
      "metadata": {
        "id": "bMglw88UHoK4",
        "colab_type": "code",
        "colab": {}
      },
      "cell_type": "code",
      "source": [
        "\"\"\"Sigmoid\"\"\"\n",
        "def activation(x):\n",
        "  return 1/(1+torch.exp(-x))"
      ],
      "execution_count": 0,
      "outputs": []
    },
    {
      "metadata": {
        "id": "L7DSlLDeIpwI",
        "colab_type": "code",
        "colab": {}
      },
      "cell_type": "code",
      "source": [
        "### Generate some data\n",
        "torch.manual_seed(7) # set the random seeds so things are predictable\n",
        "\n",
        "# features are 5 random normal variables\n",
        "features = torch.randn((1,5))\n",
        "#True weights for our data, random normal variables again\n",
        "weights = torch.randn_like(features)\n",
        "#and a true bias term\n",
        "bias = torch.randn((1,1))"
      ],
      "execution_count": 0,
      "outputs": []
    },
    {
      "metadata": {
        "id": "RtSLvdEgJ-ts",
        "colab_type": "code",
        "outputId": "ae045f69-b7ff-4920-aa30-60e00b88eca3",
        "colab": {
          "base_uri": "https://localhost:8080/",
          "height": 68
        }
      },
      "cell_type": "code",
      "source": [
        "features, weights, bias"
      ],
      "execution_count": 0,
      "outputs": [
        {
          "output_type": "execute_result",
          "data": {
            "text/plain": [
              "(tensor([[-0.1468,  0.7861,  0.9468, -1.1143,  1.6908]]),\n",
              " tensor([[-0.8948, -0.3556,  1.2324,  0.1382, -1.6822]]),\n",
              " tensor([[0.3177]]))"
            ]
          },
          "metadata": {
            "tags": []
          },
          "execution_count": 36
        }
      ]
    },
    {
      "metadata": {
        "id": "xAzBCS4OKDhU",
        "colab_type": "code",
        "colab": {}
      },
      "cell_type": "code",
      "source": [
        "## Calculate the output of this network using the weights and bias tensors\n",
        "\n",
        "output = activation(torch.sum(features * weights) + bias)\n"
      ],
      "execution_count": 0,
      "outputs": []
    },
    {
      "metadata": {
        "id": "p6ErxG12MbnX",
        "colab_type": "code",
        "outputId": "4279e09d-8cd4-4b6b-dbf3-85e87cec9065",
        "colab": {
          "base_uri": "https://localhost:8080/",
          "height": 34
        }
      },
      "cell_type": "code",
      "source": [
        "output"
      ],
      "execution_count": 0,
      "outputs": [
        {
          "output_type": "execute_result",
          "data": {
            "text/plain": [
              "tensor([[0.1595]])"
            ]
          },
          "metadata": {
            "tags": []
          },
          "execution_count": 38
        }
      ]
    },
    {
      "metadata": {
        "id": "dPZk3cDtMeyA",
        "colab_type": "code",
        "outputId": "3ad589ea-4846-4961-df5c-9a0fbb34583f",
        "colab": {
          "base_uri": "https://localhost:8080/",
          "height": 34
        }
      },
      "cell_type": "code",
      "source": [
        "## ANother way of doing it \n",
        "## weights1 = weights.t() \n",
        "\n",
        "weights1 = weights.view(5, 1)\n",
        "output1 = activation(torch.mm(features, weights1) + bias)\n",
        "output1"
      ],
      "execution_count": 0,
      "outputs": [
        {
          "output_type": "execute_result",
          "data": {
            "text/plain": [
              "tensor([[0.1595]])"
            ]
          },
          "metadata": {
            "tags": []
          },
          "execution_count": 39
        }
      ]
    },
    {
      "metadata": {
        "id": "cUl81YZqY5ws",
        "colab_type": "text"
      },
      "cell_type": "markdown",
      "source": [
        "======================Neural network with 2 layers=================="
      ]
    },
    {
      "metadata": {
        "id": "z03e_C1TPfkE",
        "colab_type": "code",
        "colab": {}
      },
      "cell_type": "code",
      "source": [
        "##Generate some data\n",
        "torch.manual_seed(7)\n",
        "\n",
        "#features are 3 random normal variables\n",
        "features = torch.randn((1,3))\n",
        "\n",
        "#define size of each layer in neural network\n",
        "n_input = features.shape[1]   #number of input units\n",
        "n_hidden = 2                  #number of hidden units\n",
        "n_output = 1                  #number of output units\n",
        "\n",
        "#weights for inputs to hidden layer\n",
        "w1 = torch.randn((n_input, n_hidden))\n",
        "\n",
        "#weights for hidden to output layer\n",
        "w2 = torch.randn((n_hidden, n_output))\n",
        "\n",
        "#bias terms for hidden and output layers\n",
        "b1 = torch.randn((1, n_hidden))\n",
        "b2 = torch.randn((1, n_output))"
      ],
      "execution_count": 0,
      "outputs": []
    },
    {
      "metadata": {
        "id": "gQ260hBeZcmS",
        "colab_type": "code",
        "outputId": "e1d718c9-b0ee-4048-e98b-14c3c313803e",
        "colab": {
          "base_uri": "https://localhost:8080/",
          "height": 34
        }
      },
      "cell_type": "code",
      "source": [
        "##Calculating output for this network\n",
        "h = activation(torch.mm(features, w1)+b1)\n",
        "output = activation(torch.mm(h, w2)+b2)\n",
        "output"
      ],
      "execution_count": 0,
      "outputs": [
        {
          "output_type": "execute_result",
          "data": {
            "text/plain": [
              "tensor([[0.3171]])"
            ]
          },
          "metadata": {
            "tags": []
          },
          "execution_count": 42
        }
      ]
    },
    {
      "metadata": {
        "id": "VjsVrS0bduZP",
        "colab_type": "text"
      },
      "cell_type": "markdown",
      "source": [
        "**Numpy to torch and back**"
      ]
    },
    {
      "metadata": {
        "id": "W7UG09kGcTfb",
        "colab_type": "code",
        "colab": {}
      },
      "cell_type": "code",
      "source": [
        "import numpy as np"
      ],
      "execution_count": 0,
      "outputs": []
    },
    {
      "metadata": {
        "id": "-IxjxJhPd223",
        "colab_type": "code",
        "outputId": "c583d77d-b0c6-44c4-8789-9b2b6ce443cc",
        "colab": {
          "base_uri": "https://localhost:8080/",
          "height": 85
        }
      },
      "cell_type": "code",
      "source": [
        "a = np.random.rand(4,3)\n",
        "a"
      ],
      "execution_count": 0,
      "outputs": [
        {
          "output_type": "execute_result",
          "data": {
            "text/plain": [
              "array([[0.22563518, 0.45516341, 0.02951667],\n",
              "       [0.30652365, 0.14051958, 0.67610251],\n",
              "       [0.07630431, 0.55635423, 0.6505491 ],\n",
              "       [0.69814769, 0.32170727, 0.92147648]])"
            ]
          },
          "metadata": {
            "tags": []
          },
          "execution_count": 44
        }
      ]
    },
    {
      "metadata": {
        "id": "zxrqNIPzd-Vh",
        "colab_type": "code",
        "outputId": "e2caec08-f9eb-4825-f52c-7580106fc33d",
        "colab": {
          "base_uri": "https://localhost:8080/",
          "height": 85
        }
      },
      "cell_type": "code",
      "source": [
        "b = torch.from_numpy(a)\n",
        "b"
      ],
      "execution_count": 0,
      "outputs": [
        {
          "output_type": "execute_result",
          "data": {
            "text/plain": [
              "tensor([[0.2256, 0.4552, 0.0295],\n",
              "        [0.3065, 0.1405, 0.6761],\n",
              "        [0.0763, 0.5564, 0.6505],\n",
              "        [0.6981, 0.3217, 0.9215]], dtype=torch.float64)"
            ]
          },
          "metadata": {
            "tags": []
          },
          "execution_count": 45
        }
      ]
    },
    {
      "metadata": {
        "id": "IBe3S3VEeI7G",
        "colab_type": "code",
        "outputId": "c22e0fb9-4529-4e40-95f5-5c9bb79906f8",
        "colab": {
          "base_uri": "https://localhost:8080/",
          "height": 153
        }
      },
      "cell_type": "code",
      "source": [
        "b.numpy(), b"
      ],
      "execution_count": 0,
      "outputs": [
        {
          "output_type": "execute_result",
          "data": {
            "text/plain": [
              "(array([[0.22563518, 0.45516341, 0.02951667],\n",
              "        [0.30652365, 0.14051958, 0.67610251],\n",
              "        [0.07630431, 0.55635423, 0.6505491 ],\n",
              "        [0.69814769, 0.32170727, 0.92147648]]),\n",
              " tensor([[0.2256, 0.4552, 0.0295],\n",
              "         [0.3065, 0.1405, 0.6761],\n",
              "         [0.0763, 0.5564, 0.6505],\n",
              "         [0.6981, 0.3217, 0.9215]], dtype=torch.float64))"
            ]
          },
          "metadata": {
            "tags": []
          },
          "execution_count": 47
        }
      ]
    },
    {
      "metadata": {
        "id": "HUYuN_Daedak",
        "colab_type": "text"
      },
      "cell_type": "markdown",
      "source": [
        "The memory is shared betweenthe Numpy array and torch tensor, so if u change the value in-place of one object, the other will change as well.\n"
      ]
    },
    {
      "metadata": {
        "id": "nd2T49okePTc",
        "colab_type": "code",
        "outputId": "1d678758-ead1-472b-c6c3-0e9e8a8ac514",
        "colab": {
          "base_uri": "https://localhost:8080/",
          "height": 85
        }
      },
      "cell_type": "code",
      "source": [
        "#multiply b torch by 2, in place\n",
        "b.mul_(2)"
      ],
      "execution_count": 0,
      "outputs": [
        {
          "output_type": "execute_result",
          "data": {
            "text/plain": [
              "tensor([[0.4513, 0.9103, 0.0590],\n",
              "        [0.6130, 0.2810, 1.3522],\n",
              "        [0.1526, 1.1127, 1.3011],\n",
              "        [1.3963, 0.6434, 1.8430]], dtype=torch.float64)"
            ]
          },
          "metadata": {
            "tags": []
          },
          "execution_count": 48
        }
      ]
    },
    {
      "metadata": {
        "id": "A8oqJkt7fCWF",
        "colab_type": "code",
        "outputId": "f449151a-991b-4557-ef07-db0cb9f61641",
        "colab": {
          "base_uri": "https://localhost:8080/",
          "height": 85
        }
      },
      "cell_type": "code",
      "source": [
        "a"
      ],
      "execution_count": 0,
      "outputs": [
        {
          "output_type": "execute_result",
          "data": {
            "text/plain": [
              "array([[0.45127036, 0.91032683, 0.05903334],\n",
              "       [0.6130473 , 0.28103915, 1.35220502],\n",
              "       [0.15260862, 1.11270847, 1.30109819],\n",
              "       [1.39629539, 0.64341454, 1.84295296]])"
            ]
          },
          "metadata": {
            "tags": []
          },
          "execution_count": 49
        }
      ]
    },
    {
      "metadata": {
        "id": "vcXq2pU0h-49",
        "colab_type": "text"
      },
      "cell_type": "markdown",
      "source": [
        "Visit this link for more details - \n",
        "\n",
        "https://github.com/udacity/deep-learning-v2-pytorch/blob/master/intro-to-pytorch/Part%201%20-%20Tensors%20in%20PyTorch%20(Solution).ipynb"
      ]
    }
  ]
}